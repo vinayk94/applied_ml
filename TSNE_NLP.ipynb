{
 "cells": [
  {
   "cell_type": "markdown",
   "metadata": {},
   "source": [
    "### Objective: Given reviews in text, visualize datapoints using t-SNE after vectorizing each text review using \n",
    "   * ### BoW\n",
    "   * ### TF-IDF \n",
    "   * ### AvgW2V \n",
    "   * ### TF-IDFW2V\n",
    "\n",
    "### Motivation: Given a review, to build a model which determines whether the review is positive or negative."
   ]
  },
  {
   "cell_type": "markdown",
   "metadata": {},
   "source": [
    "### Dataset: Amazon Fine Food Reviews\n",
    "\n",
    "Data Source: https://www.kaggle.com/snap/amazon-fine-food-reviews <br>\n",
    "\n",
    "The Amazon Fine Food Reviews dataset consists of reviews of fine foods from Amazon.<br>\n",
    "\n",
    "Number of reviews: 568,454<br>\n",
    "Number of users: 256,059<br>\n",
    "Number of products: 74,258<br>\n",
    "Timespan: Oct 1999 - Oct 2012<br>\n",
    "Number of Attributes/Columns in data: 10 \n",
    "\n",
    "Attribute Information:\n",
    "\n",
    "1. Id\n",
    "2. ProductId - unique identifier for the product\n",
    "3. UserId - unqiue identifier for the user\n",
    "4. ProfileName\n",
    "5. HelpfulnessNumerator - number of users who found the review helpful\n",
    "6. HelpfulnessDenominator - number of users who indicated whether they found the review helpful or not\n",
    "7. Score - rating between 1 and 5\n",
    "8. Time - timestamp for the review\n",
    "9. Summary - brief summary of the review\n",
    "10. Text - text of the review"
   ]
  },
  {
   "cell_type": "markdown",
   "metadata": {},
   "source": [
    "### Premise:\n",
    "\n",
    "[Q] How to determine if a review is positive or negative?<br>[Ans] We could use the Score/Rating. A rating of 4 or 5 could be cosnidered a positive review. A review of 1 or 2 could be considered negative. A review of 3 is nuetral and ignored. This is an approximate and proxy way of determining the polarity (positivity/negativity) of a review."
   ]
  },
  {
   "cell_type": "markdown",
   "metadata": {},
   "source": [
    "### Loading the data\n",
    "\n",
    "The dataset is available in two forms\n",
    "1. .csv file\n",
    "2. SQLite Database\n",
    "\n",
    "In order to load the data, we use the SQLITE dataset as it easier to query the data and visualise the data efficiently.\n",
    "<br> \n",
    "\n",
    "Here as we only want to get the global sentiment of the recommendations (positive or negative), we will purposefully ignore all Scores equal to 3. If the score id above 3, then the recommendation wil be set to \"positive\". Otherwise, it will be set to \"negative\"."
   ]
  },
  {
   "cell_type": "code",
   "execution_count": 1,
   "metadata": {
    "collapsed": true
   },
   "outputs": [],
   "source": [
    "%matplotlib inline\n",
    "import warnings\n",
    "warnings.filterwarnings(\"ignore\")\n",
    "\n",
    "import sqlite3\n",
    "import pandas as pd\n",
    "import numpy as np\n",
    "import nltk\n",
    "import string\n",
    "import matplotlib.pyplot as plt\n",
    "import seaborn as sns\n",
    "from sklearn.feature_extraction.text import TfidfTransformer\n",
    "from sklearn.feature_extraction.text import TfidfVectorizer\n",
    "\n",
    "from sklearn.feature_extraction.text import CountVectorizer\n",
    "from sklearn.metrics import confusion_matrix\n",
    "from sklearn import metrics\n",
    "from sklearn.metrics import roc_curve, auc\n",
    "from nltk.stem.porter import PorterStemmer\n",
    "\n",
    "import re\n",
    "# Tutorial about Python regular expressions: https://pymotw.com/2/re/\n",
    "import string\n",
    "from nltk.corpus import stopwords\n",
    "from nltk.stem import PorterStemmer\n",
    "from nltk.stem.wordnet import WordNetLemmatizer\n",
    "\n",
    "from gensim.models import Word2Vec\n",
    "from gensim.models import KeyedVectors\n",
    "import pickle\n",
    "\n",
    "from tqdm import tqdm\n",
    "import os"
   ]
  },
  {
   "cell_type": "markdown",
   "metadata": {},
   "source": [
    "# [1]. Reading the data"
   ]
  },
  {
   "cell_type": "code",
   "execution_count": 2,
   "metadata": {},
   "outputs": [
    {
     "name": "stdout",
     "output_type": "stream",
     "text": [
      "['Reviews']\n"
     ]
    }
   ],
   "source": [
    "## finding the contents of the database\n",
    "from sqlalchemy import create_engine\n",
    "engine = create_engine('sqlite:///database.sqlite')\n",
    "print(engine.table_names())"
   ]
  },
  {
   "cell_type": "markdown",
   "metadata": {},
   "source": [
    "* So, the reviews data is stored in the database with the table name 'Reviews'"
   ]
  },
  {
   "cell_type": "code",
   "execution_count": 3,
   "metadata": {
    "scrolled": true
   },
   "outputs": [
    {
     "name": "stdout",
     "output_type": "stream",
     "text": [
      "Number of data points in our data (6000, 10)\n"
     ]
    },
    {
     "data": {
      "text/html": [
       "<div>\n",
       "<style>\n",
       "    .dataframe thead tr:only-child th {\n",
       "        text-align: right;\n",
       "    }\n",
       "\n",
       "    .dataframe thead th {\n",
       "        text-align: left;\n",
       "    }\n",
       "\n",
       "    .dataframe tbody tr th {\n",
       "        vertical-align: top;\n",
       "    }\n",
       "</style>\n",
       "<table border=\"1\" class=\"dataframe\">\n",
       "  <thead>\n",
       "    <tr style=\"text-align: right;\">\n",
       "      <th></th>\n",
       "      <th>Id</th>\n",
       "      <th>ProductId</th>\n",
       "      <th>UserId</th>\n",
       "      <th>ProfileName</th>\n",
       "      <th>HelpfulnessNumerator</th>\n",
       "      <th>HelpfulnessDenominator</th>\n",
       "      <th>Score</th>\n",
       "      <th>Time</th>\n",
       "      <th>Summary</th>\n",
       "      <th>Text</th>\n",
       "    </tr>\n",
       "  </thead>\n",
       "  <tbody>\n",
       "    <tr>\n",
       "      <th>0</th>\n",
       "      <td>8677</td>\n",
       "      <td>B003VXFK44</td>\n",
       "      <td>AMEEXXHSFDS3Z</td>\n",
       "      <td>Tito Lover</td>\n",
       "      <td>1</td>\n",
       "      <td>5</td>\n",
       "      <td>negative</td>\n",
       "      <td>1287360000</td>\n",
       "      <td>Yuk!  Twangy aftertaste and weak coffee make t...</td>\n",
       "      <td>I bought both the Creme Caramel and this Hazel...</td>\n",
       "    </tr>\n",
       "    <tr>\n",
       "      <th>1</th>\n",
       "      <td>2594</td>\n",
       "      <td>B000EGX2EG</td>\n",
       "      <td>A2T0LGPLQY2GW</td>\n",
       "      <td>J. Burk</td>\n",
       "      <td>0</td>\n",
       "      <td>1</td>\n",
       "      <td>positive</td>\n",
       "      <td>1181779200</td>\n",
       "      <td>Great Almond Crunch!!</td>\n",
       "      <td>My husband and both love almonds. I've even sh...</td>\n",
       "    </tr>\n",
       "    <tr>\n",
       "      <th>2</th>\n",
       "      <td>18478</td>\n",
       "      <td>B000BZ6LXO</td>\n",
       "      <td>A16YFQH7UYHVOF</td>\n",
       "      <td>Michigander \"twizz1233\"</td>\n",
       "      <td>0</td>\n",
       "      <td>0</td>\n",
       "      <td>negative</td>\n",
       "      <td>1344211200</td>\n",
       "      <td>Not impressed.</td>\n",
       "      <td>I bought this for all my deck containers this ...</td>\n",
       "    </tr>\n",
       "    <tr>\n",
       "      <th>3</th>\n",
       "      <td>605</td>\n",
       "      <td>B000G6RYNE</td>\n",
       "      <td>A2TMSO255FQBBU</td>\n",
       "      <td>Brian H. Goldberg</td>\n",
       "      <td>1</td>\n",
       "      <td>1</td>\n",
       "      <td>positive</td>\n",
       "      <td>1218758400</td>\n",
       "      <td>Some of the best chips anywhere</td>\n",
       "      <td>Kettle chips are thicker and crunchier (though...</td>\n",
       "    </tr>\n",
       "    <tr>\n",
       "      <th>4</th>\n",
       "      <td>1736</td>\n",
       "      <td>B001RVFDOO</td>\n",
       "      <td>A2VHZIBAVLU8OL</td>\n",
       "      <td>debbie723</td>\n",
       "      <td>0</td>\n",
       "      <td>0</td>\n",
       "      <td>positive</td>\n",
       "      <td>1280188800</td>\n",
       "      <td>Pop Chips are great</td>\n",
       "      <td>When I found these chips I was shocked to see ...</td>\n",
       "    </tr>\n",
       "    <tr>\n",
       "      <th>5</th>\n",
       "      <td>1853</td>\n",
       "      <td>B001RVFDOO</td>\n",
       "      <td>A305JULQXPH8S7</td>\n",
       "      <td>Salvatore Grieco</td>\n",
       "      <td>1</td>\n",
       "      <td>1</td>\n",
       "      <td>positive</td>\n",
       "      <td>1300060800</td>\n",
       "      <td>My new favorite chips!</td>\n",
       "      <td>I love chips and can easily go through an enti...</td>\n",
       "    </tr>\n",
       "    <tr>\n",
       "      <th>6</th>\n",
       "      <td>19161</td>\n",
       "      <td>B000I6PXGM</td>\n",
       "      <td>A2HVL44J1CMMJD</td>\n",
       "      <td>Lucy Fan \"Kari\"</td>\n",
       "      <td>0</td>\n",
       "      <td>0</td>\n",
       "      <td>negative</td>\n",
       "      <td>1198886400</td>\n",
       "      <td>Not much taste</td>\n",
       "      <td>I was very disappointed that this coffee did n...</td>\n",
       "    </tr>\n",
       "    <tr>\n",
       "      <th>7</th>\n",
       "      <td>3219</td>\n",
       "      <td>B005K4Q1VI</td>\n",
       "      <td>A1LFVTK70U5EZ5</td>\n",
       "      <td>GQ</td>\n",
       "      <td>0</td>\n",
       "      <td>0</td>\n",
       "      <td>negative</td>\n",
       "      <td>1347321600</td>\n",
       "      <td>Sweet cocoa</td>\n",
       "      <td>I found this too sweet. Am hoping there's an u...</td>\n",
       "    </tr>\n",
       "    <tr>\n",
       "      <th>8</th>\n",
       "      <td>1469</td>\n",
       "      <td>B0040WHJQM</td>\n",
       "      <td>A2SNRIDC4QCCXN</td>\n",
       "      <td>Sinead NiC \"American &amp; Irish expat\"</td>\n",
       "      <td>0</td>\n",
       "      <td>0</td>\n",
       "      <td>positive</td>\n",
       "      <td>1346457600</td>\n",
       "      <td>Great for a healthy, hot, great-tasting vegan ...</td>\n",
       "      <td>There are many workdays when I only have a few...</td>\n",
       "    </tr>\n",
       "    <tr>\n",
       "      <th>9</th>\n",
       "      <td>160</td>\n",
       "      <td>B000ITVLE2</td>\n",
       "      <td>A395S4RA1X7BFB</td>\n",
       "      <td>Pen_Name123</td>\n",
       "      <td>3</td>\n",
       "      <td>3</td>\n",
       "      <td>positive</td>\n",
       "      <td>1315872000</td>\n",
       "      <td>Simple but good</td>\n",
       "      <td>I've never heard of the SAFCOL brand before bu...</td>\n",
       "    </tr>\n",
       "  </tbody>\n",
       "</table>\n",
       "</div>"
      ],
      "text/plain": [
       "      Id   ProductId          UserId                          ProfileName  \\\n",
       "0   8677  B003VXFK44   AMEEXXHSFDS3Z                           Tito Lover   \n",
       "1   2594  B000EGX2EG   A2T0LGPLQY2GW                              J. Burk   \n",
       "2  18478  B000BZ6LXO  A16YFQH7UYHVOF              Michigander \"twizz1233\"   \n",
       "3    605  B000G6RYNE  A2TMSO255FQBBU                    Brian H. Goldberg   \n",
       "4   1736  B001RVFDOO  A2VHZIBAVLU8OL                            debbie723   \n",
       "5   1853  B001RVFDOO  A305JULQXPH8S7                     Salvatore Grieco   \n",
       "6  19161  B000I6PXGM  A2HVL44J1CMMJD                      Lucy Fan \"Kari\"   \n",
       "7   3219  B005K4Q1VI  A1LFVTK70U5EZ5                                   GQ   \n",
       "8   1469  B0040WHJQM  A2SNRIDC4QCCXN  Sinead NiC \"American & Irish expat\"   \n",
       "9    160  B000ITVLE2  A395S4RA1X7BFB                          Pen_Name123   \n",
       "\n",
       "   HelpfulnessNumerator  HelpfulnessDenominator     Score        Time  \\\n",
       "0                     1                       5  negative  1287360000   \n",
       "1                     0                       1  positive  1181779200   \n",
       "2                     0                       0  negative  1344211200   \n",
       "3                     1                       1  positive  1218758400   \n",
       "4                     0                       0  positive  1280188800   \n",
       "5                     1                       1  positive  1300060800   \n",
       "6                     0                       0  negative  1198886400   \n",
       "7                     0                       0  negative  1347321600   \n",
       "8                     0                       0  positive  1346457600   \n",
       "9                     3                       3  positive  1315872000   \n",
       "\n",
       "                                             Summary  \\\n",
       "0  Yuk!  Twangy aftertaste and weak coffee make t...   \n",
       "1                              Great Almond Crunch!!   \n",
       "2                                     Not impressed.   \n",
       "3                    Some of the best chips anywhere   \n",
       "4                                Pop Chips are great   \n",
       "5                             My new favorite chips!   \n",
       "6                                     Not much taste   \n",
       "7                                        Sweet cocoa   \n",
       "8  Great for a healthy, hot, great-tasting vegan ...   \n",
       "9                                    Simple but good   \n",
       "\n",
       "                                                Text  \n",
       "0  I bought both the Creme Caramel and this Hazel...  \n",
       "1  My husband and both love almonds. I've even sh...  \n",
       "2  I bought this for all my deck containers this ...  \n",
       "3  Kettle chips are thicker and crunchier (though...  \n",
       "4  When I found these chips I was shocked to see ...  \n",
       "5  I love chips and can easily go through an enti...  \n",
       "6  I was very disappointed that this coffee did n...  \n",
       "7  I found this too sweet. Am hoping there's an u...  \n",
       "8  There are many workdays when I only have a few...  \n",
       "9  I've never heard of the SAFCOL brand before bu...  "
      ]
     },
     "execution_count": 3,
     "metadata": {},
     "output_type": "execute_result"
    }
   ],
   "source": [
    "# using the SQLite Table to read data.\n",
    "con = sqlite3.connect('database.sqlite')\n",
    "\n",
    "# For our objective of visulaization, I'm taking just 6000 data points from the original data \n",
    "# I make sure that the taken data has an equal proportion of negative and positive reviews\n",
    "positive_data = pd.read_sql_query(\"\"\" SELECT * FROM Reviews WHERE Score > 3 LIMIT 3000\"\"\", con)\n",
    "negative_data = pd.read_sql_query(\"\"\" SELECT * FROM Reviews WHERE Score < 3 LIMIT 3000\"\"\", con)\n",
    "amazon_filtered_data = pd.concat([positive_data,negative_data])\n",
    "\n",
    "# changing reviews with score less than 3 to be positive and vice-versa\n",
    "amazon_filtered_data['Score'] = amazon_filtered_data.Score.apply(lambda x:'positive' if x>3 else 'negative')\n",
    "print(\"Number of data points in our data\", amazon_filtered_data.shape)\n",
    "\n",
    "# shuffling the data\n",
    "amazon_filtered_data = amazon_filtered_data.sample(frac=1,random_state=0).reset_index(drop=True)\n",
    "amazon_filtered_data.head(10)"
   ]
  },
  {
   "cell_type": "markdown",
   "metadata": {},
   "source": [
    "#  Exploratory Data Analysis\n",
    "\n",
    "## [2] Data Cleaning: Deduplication\n"
   ]
  },
  {
   "cell_type": "markdown",
   "metadata": {},
   "source": [
    " ***Motivation : Based on the text of the review, determine whether it is positive or negative.***\n",
    "\n",
    "* So, we need unique data points i.e.,unique review in text form to build an efficient model.\n",
    "\n",
    "* First, we can check for any duplicates with all the columns if existing and remove them.\n"
   ]
  },
  {
   "cell_type": "code",
   "execution_count": 4,
   "metadata": {},
   "outputs": [
    {
     "data": {
      "text/plain": [
       "(0, 10)"
      ]
     },
     "execution_count": 4,
     "metadata": {},
     "output_type": "execute_result"
    }
   ],
   "source": [
    "amazon_filtered_data[amazon_filtered_data.duplicated(subset=None, keep='first')].shape"
   ]
  },
  {
   "cell_type": "markdown",
   "metadata": {},
   "source": [
    "* So there are no duplicates with all the feature values being same for an instant\n",
    "\n",
    "#### Now\n",
    "\n",
    "* From the definition of Helpfulness numerator and denominator, it requires Helpfulness numerator to be less than Helpfulness denominator.\n",
    "* We check for any anomalies as such and remove them if existing."
   ]
  },
  {
   "cell_type": "code",
   "execution_count": 5,
   "metadata": {},
   "outputs": [
    {
     "data": {
      "text/plain": [
       "(0, 10)"
      ]
     },
     "execution_count": 5,
     "metadata": {},
     "output_type": "execute_result"
    }
   ],
   "source": [
    "amazon_filtered_data[amazon_filtered_data.HelpfulnessNumerator > amazon_filtered_data.HelpfulnessDenominator].shape"
   ]
  },
  {
   "cell_type": "code",
   "execution_count": 6,
   "metadata": {},
   "outputs": [
    {
     "data": {
      "text/plain": [
       "(6000, 10)"
      ]
     },
     "execution_count": 6,
     "metadata": {},
     "output_type": "execute_result"
    }
   ],
   "source": [
    "amazon_dedup1_data= amazon_filtered_data[amazon_filtered_data.HelpfulnessNumerator <= amazon_filtered_data.HelpfulnessDenominator]\n",
    "amazon_dedup1_data.shape"
   ]
  },
  {
   "cell_type": "markdown",
   "metadata": {},
   "source": [
    "### Now\n",
    "* Also, we could check for a given product, each user could review only once at an instant."
   ]
  },
  {
   "cell_type": "code",
   "execution_count": 7,
   "metadata": {},
   "outputs": [
    {
     "data": {
      "text/plain": [
       "(127, 10)"
      ]
     },
     "execution_count": 7,
     "metadata": {},
     "output_type": "execute_result"
    }
   ],
   "source": [
    "amazon_dedup1_data[amazon_dedup1_data.duplicated(subset = {\"UserId\",\"ProfileName\",\"Time\",\"Text\"})].shape"
   ]
  },
  {
   "cell_type": "code",
   "execution_count": 8,
   "metadata": {},
   "outputs": [
    {
     "data": {
      "text/html": [
       "<div>\n",
       "<style>\n",
       "    .dataframe thead tr:only-child th {\n",
       "        text-align: right;\n",
       "    }\n",
       "\n",
       "    .dataframe thead th {\n",
       "        text-align: left;\n",
       "    }\n",
       "\n",
       "    .dataframe tbody tr th {\n",
       "        vertical-align: top;\n",
       "    }\n",
       "</style>\n",
       "<table border=\"1\" class=\"dataframe\">\n",
       "  <thead>\n",
       "    <tr style=\"text-align: right;\">\n",
       "      <th></th>\n",
       "      <th>Id</th>\n",
       "      <th>ProductId</th>\n",
       "      <th>UserId</th>\n",
       "      <th>ProfileName</th>\n",
       "      <th>HelpfulnessNumerator</th>\n",
       "      <th>HelpfulnessDenominator</th>\n",
       "      <th>Score</th>\n",
       "      <th>Time</th>\n",
       "      <th>Summary</th>\n",
       "      <th>Text</th>\n",
       "    </tr>\n",
       "  </thead>\n",
       "  <tbody>\n",
       "    <tr>\n",
       "      <th>368</th>\n",
       "      <td>9386</td>\n",
       "      <td>B006N3IG4K</td>\n",
       "      <td>AMEEXXHSFDS3Z</td>\n",
       "      <td>Tito Lover</td>\n",
       "      <td>1</td>\n",
       "      <td>5</td>\n",
       "      <td>negative</td>\n",
       "      <td>1287360000</td>\n",
       "      <td>Yuk!  Twangy aftertaste and weak coffee make t...</td>\n",
       "      <td>I bought both the Creme Caramel and this Hazel...</td>\n",
       "    </tr>\n",
       "    <tr>\n",
       "      <th>580</th>\n",
       "      <td>15044</td>\n",
       "      <td>B0000CDBRY</td>\n",
       "      <td>A253F3QA4WHGXU</td>\n",
       "      <td>Robert Hefferle \"HEFF\"</td>\n",
       "      <td>1</td>\n",
       "      <td>3</td>\n",
       "      <td>negative</td>\n",
       "      <td>1319155200</td>\n",
       "      <td>Vegetable seasoning very spicy</td>\n",
       "      <td>Paul Prudhomme makes great seafood seasoning a...</td>\n",
       "    </tr>\n",
       "    <tr>\n",
       "      <th>668</th>\n",
       "      <td>13325</td>\n",
       "      <td>B004286RC6</td>\n",
       "      <td>A2YDDLVUX7UHVT</td>\n",
       "      <td>dragonhaven</td>\n",
       "      <td>5</td>\n",
       "      <td>8</td>\n",
       "      <td>negative</td>\n",
       "      <td>1317513600</td>\n",
       "      <td>See's Truffles through Amazon</td>\n",
       "      <td>I have already communicated with the See's com...</td>\n",
       "    </tr>\n",
       "    <tr>\n",
       "      <th>749</th>\n",
       "      <td>8400</td>\n",
       "      <td>B003VXFK44</td>\n",
       "      <td>A35UWJL3AGIHBM</td>\n",
       "      <td>Adam N. Rubenstein</td>\n",
       "      <td>0</td>\n",
       "      <td>0</td>\n",
       "      <td>negative</td>\n",
       "      <td>1335139200</td>\n",
       "      <td>Not good at all!!!!!!!!!!!!!</td>\n",
       "      <td>This flavor is horrible.  There are many other...</td>\n",
       "    </tr>\n",
       "    <tr>\n",
       "      <th>891</th>\n",
       "      <td>9331</td>\n",
       "      <td>B006N3IG4K</td>\n",
       "      <td>ALMBZNEFJT6VZ</td>\n",
       "      <td>Wrena</td>\n",
       "      <td>0</td>\n",
       "      <td>0</td>\n",
       "      <td>negative</td>\n",
       "      <td>1290556800</td>\n",
       "      <td>yuck</td>\n",
       "      <td>This was the nastiest flavored coffee I have e...</td>\n",
       "    </tr>\n",
       "  </tbody>\n",
       "</table>\n",
       "</div>"
      ],
      "text/plain": [
       "        Id   ProductId          UserId             ProfileName  \\\n",
       "368   9386  B006N3IG4K   AMEEXXHSFDS3Z              Tito Lover   \n",
       "580  15044  B0000CDBRY  A253F3QA4WHGXU  Robert Hefferle \"HEFF\"   \n",
       "668  13325  B004286RC6  A2YDDLVUX7UHVT             dragonhaven   \n",
       "749   8400  B003VXFK44  A35UWJL3AGIHBM      Adam N. Rubenstein   \n",
       "891   9331  B006N3IG4K   ALMBZNEFJT6VZ                   Wrena   \n",
       "\n",
       "     HelpfulnessNumerator  HelpfulnessDenominator     Score        Time  \\\n",
       "368                     1                       5  negative  1287360000   \n",
       "580                     1                       3  negative  1319155200   \n",
       "668                     5                       8  negative  1317513600   \n",
       "749                     0                       0  negative  1335139200   \n",
       "891                     0                       0  negative  1290556800   \n",
       "\n",
       "                                               Summary  \\\n",
       "368  Yuk!  Twangy aftertaste and weak coffee make t...   \n",
       "580                     Vegetable seasoning very spicy   \n",
       "668                      See's Truffles through Amazon   \n",
       "749                       Not good at all!!!!!!!!!!!!!   \n",
       "891                                               yuck   \n",
       "\n",
       "                                                  Text  \n",
       "368  I bought both the Creme Caramel and this Hazel...  \n",
       "580  Paul Prudhomme makes great seafood seasoning a...  \n",
       "668  I have already communicated with the See's com...  \n",
       "749  This flavor is horrible.  There are many other...  \n",
       "891  This was the nastiest flavored coffee I have e...  "
      ]
     },
     "execution_count": 8,
     "metadata": {},
     "output_type": "execute_result"
    }
   ],
   "source": [
    "amazon_dedup1_data[amazon_dedup1_data.duplicated(subset = {\"UserId\",\"ProfileName\",\"Time\",\"Text\"})].head(5)"
   ]
  },
  {
   "cell_type": "code",
   "execution_count": 9,
   "metadata": {
    "scrolled": true
   },
   "outputs": [
    {
     "name": "stdout",
     "output_type": "stream",
     "text": [
      "(18, 10)\n"
     ]
    },
    {
     "data": {
      "text/html": [
       "<div>\n",
       "<style>\n",
       "    .dataframe thead tr:only-child th {\n",
       "        text-align: right;\n",
       "    }\n",
       "\n",
       "    .dataframe thead th {\n",
       "        text-align: left;\n",
       "    }\n",
       "\n",
       "    .dataframe tbody tr th {\n",
       "        vertical-align: top;\n",
       "    }\n",
       "</style>\n",
       "<table border=\"1\" class=\"dataframe\">\n",
       "  <thead>\n",
       "    <tr style=\"text-align: right;\">\n",
       "      <th></th>\n",
       "      <th>Id</th>\n",
       "      <th>ProductId</th>\n",
       "      <th>UserId</th>\n",
       "      <th>ProfileName</th>\n",
       "      <th>HelpfulnessNumerator</th>\n",
       "      <th>HelpfulnessDenominator</th>\n",
       "      <th>Score</th>\n",
       "      <th>Time</th>\n",
       "      <th>Summary</th>\n",
       "      <th>Text</th>\n",
       "    </tr>\n",
       "  </thead>\n",
       "  <tbody>\n",
       "    <tr>\n",
       "      <th>0</th>\n",
       "      <td>493173</td>\n",
       "      <td>B003TC7WN4</td>\n",
       "      <td>AMEEXXHSFDS3Z</td>\n",
       "      <td>Tito Lover</td>\n",
       "      <td>4</td>\n",
       "      <td>4</td>\n",
       "      <td>2</td>\n",
       "      <td>1287360000</td>\n",
       "      <td>Just blah...</td>\n",
       "      <td>It seems the flavor selection on Amazon has be...</td>\n",
       "    </tr>\n",
       "    <tr>\n",
       "      <th>1</th>\n",
       "      <td>493239</td>\n",
       "      <td>B003TC7WN4</td>\n",
       "      <td>AMEEXXHSFDS3Z</td>\n",
       "      <td>Tito Lover</td>\n",
       "      <td>1</td>\n",
       "      <td>5</td>\n",
       "      <td>1</td>\n",
       "      <td>1287360000</td>\n",
       "      <td>Yuk!  Twangy aftertaste and weak coffee make t...</td>\n",
       "      <td>I bought both the Creme Caramel and this Hazel...</td>\n",
       "    </tr>\n",
       "    <tr>\n",
       "      <th>2</th>\n",
       "      <td>8611</td>\n",
       "      <td>B003VXFK44</td>\n",
       "      <td>AMEEXXHSFDS3Z</td>\n",
       "      <td>Tito Lover</td>\n",
       "      <td>4</td>\n",
       "      <td>4</td>\n",
       "      <td>2</td>\n",
       "      <td>1287360000</td>\n",
       "      <td>Just blah...</td>\n",
       "      <td>It seems the flavor selection on Amazon has be...</td>\n",
       "    </tr>\n",
       "    <tr>\n",
       "      <th>3</th>\n",
       "      <td>8677</td>\n",
       "      <td>B003VXFK44</td>\n",
       "      <td>AMEEXXHSFDS3Z</td>\n",
       "      <td>Tito Lover</td>\n",
       "      <td>1</td>\n",
       "      <td>5</td>\n",
       "      <td>1</td>\n",
       "      <td>1287360000</td>\n",
       "      <td>Yuk!  Twangy aftertaste and weak coffee make t...</td>\n",
       "      <td>I bought both the Creme Caramel and this Hazel...</td>\n",
       "    </tr>\n",
       "    <tr>\n",
       "      <th>4</th>\n",
       "      <td>536020</td>\n",
       "      <td>B003VXHGDM</td>\n",
       "      <td>AMEEXXHSFDS3Z</td>\n",
       "      <td>Tito Lover</td>\n",
       "      <td>4</td>\n",
       "      <td>4</td>\n",
       "      <td>2</td>\n",
       "      <td>1287360000</td>\n",
       "      <td>Just blah...</td>\n",
       "      <td>It seems the flavor selection on Amazon has be...</td>\n",
       "    </tr>\n",
       "  </tbody>\n",
       "</table>\n",
       "</div>"
      ],
      "text/plain": [
       "       Id   ProductId         UserId ProfileName  HelpfulnessNumerator  \\\n",
       "0  493173  B003TC7WN4  AMEEXXHSFDS3Z  Tito Lover                     4   \n",
       "1  493239  B003TC7WN4  AMEEXXHSFDS3Z  Tito Lover                     1   \n",
       "2    8611  B003VXFK44  AMEEXXHSFDS3Z  Tito Lover                     4   \n",
       "3    8677  B003VXFK44  AMEEXXHSFDS3Z  Tito Lover                     1   \n",
       "4  536020  B003VXHGDM  AMEEXXHSFDS3Z  Tito Lover                     4   \n",
       "\n",
       "   HelpfulnessDenominator  Score        Time  \\\n",
       "0                       4      2  1287360000   \n",
       "1                       5      1  1287360000   \n",
       "2                       4      2  1287360000   \n",
       "3                       5      1  1287360000   \n",
       "4                       4      2  1287360000   \n",
       "\n",
       "                                             Summary  \\\n",
       "0                                       Just blah...   \n",
       "1  Yuk!  Twangy aftertaste and weak coffee make t...   \n",
       "2                                       Just blah...   \n",
       "3  Yuk!  Twangy aftertaste and weak coffee make t...   \n",
       "4                                       Just blah...   \n",
       "\n",
       "                                                Text  \n",
       "0  It seems the flavor selection on Amazon has be...  \n",
       "1  I bought both the Creme Caramel and this Hazel...  \n",
       "2  It seems the flavor selection on Amazon has be...  \n",
       "3  I bought both the Creme Caramel and this Hazel...  \n",
       "4  It seems the flavor selection on Amazon has be...  "
      ]
     },
     "execution_count": 9,
     "metadata": {},
     "output_type": "execute_result"
    }
   ],
   "source": [
    "check = pd.read_sql_query(\"\"\"\n",
    "SELECT *\n",
    "FROM Reviews\n",
    "WHERE Score != 3 AND UserId=\"AMEEXXHSFDS3Z\"\n",
    "ORDER BY ProductID\n",
    "\"\"\", con)\n",
    "print(check.shape)\n",
    "check.head()\n"
   ]
  },
  {
   "cell_type": "markdown",
   "metadata": {},
   "source": [
    "* We could see from the above that the user 'Tito Lover' has reviewed different products (B003TC7WN4 and B003VXFK44) at the same instant and text being the same.  \n",
    "* And there are 127 such redundant data points w.r.t different user in our sample data.\n",
    "\n",
    "***We can remove them to reduce redundancy *** "
   ]
  },
  {
   "cell_type": "code",
   "execution_count": 10,
   "metadata": {},
   "outputs": [
    {
     "data": {
      "text/plain": [
       "(5873, 10)"
      ]
     },
     "execution_count": 10,
     "metadata": {},
     "output_type": "execute_result"
    }
   ],
   "source": [
    "#Sorting data according to ProductId in ascending order\n",
    "#to make the dedup process faster\n",
    "amazon_sorted_data = amazon_dedup1_data.sort_values('ProductId', axis=0, ascending=True, inplace=False, kind='quicksort', na_position='last')\n",
    "#Deduplication of entries\n",
    "amazon_dedup2_data = amazon_sorted_data.drop_duplicates(subset={\"UserId\",\"ProfileName\",\"Time\",\"Text\"}, keep='first', inplace=False)\n",
    "amazon_dedup2_data.shape"
   ]
  },
  {
   "cell_type": "markdown",
   "metadata": {},
   "source": [
    "*** Moreover, since we intend to build a model only based on 'Text' feature, we can extend the above idea and remove any repeating text if exists.***"
   ]
  },
  {
   "cell_type": "code",
   "execution_count": 11,
   "metadata": {
    "collapsed": true
   },
   "outputs": [],
   "source": [
    "amazon_final_data = amazon_dedup2_data.drop_duplicates(subset={\"Text\"}, keep='first', inplace=False)\n"
   ]
  },
  {
   "cell_type": "code",
   "execution_count": 12,
   "metadata": {},
   "outputs": [
    {
     "data": {
      "text/plain": [
       "97.85000000000001"
      ]
     },
     "execution_count": 12,
     "metadata": {},
     "output_type": "execute_result"
    }
   ],
   "source": [
    "#Checking to see how much % of data still remains\n",
    "(amazon_final_data['Id'].size*1.0)/(amazon_filtered_data['Id'].size*1.0)*100"
   ]
  },
  {
   "cell_type": "code",
   "execution_count": 13,
   "metadata": {},
   "outputs": [
    {
     "name": "stdout",
     "output_type": "stream",
     "text": [
      "(5871, 10)\n"
     ]
    },
    {
     "data": {
      "text/plain": [
       "positive    2993\n",
       "negative    2878\n",
       "Name: Score, dtype: int64"
      ]
     },
     "execution_count": 13,
     "metadata": {},
     "output_type": "execute_result"
    }
   ],
   "source": [
    "#Before starting the next phase of preprocessing lets see the number of entries left\n",
    "print(amazon_final_data.shape)\n",
    "\n",
    "amazon_final_data.shape\n",
    "#How many positive and negative reviews are present in our dataset?\n",
    "amazon_final_data['Score'].value_counts()"
   ]
  },
  {
   "cell_type": "markdown",
   "metadata": {},
   "source": [
    "# [3].  Text Preprocessing.\n",
    "\n",
    "In the Preprocessing phase we follow the below guidelines generally used for text preprocessing, before converting text to vector for further analysis.\n",
    "\n",
    "1. Begin by removing any urls and html tags\n",
    "2. Remove any punctuations or limited set of special characters like , or . or # etc.\n",
    "3. Check if the word is made up of english letters and is not alpha-numeric\n",
    "4. Check to see if the length of the word is greater than 2 (as it was researched that there is no adjective in 2-letters)\n",
    "5. Convert the word to lowercase\n",
    "6. Remove Stopwords\n",
    "7. Finally Snowball Stemming the word (it was obsereved to be better than Porter Stemming)<br>\n",
    "\n"
   ]
  },
  {
   "cell_type": "code",
   "execution_count": 14,
   "metadata": {},
   "outputs": [
    {
     "name": "stdout",
     "output_type": "stream",
     "text": [
      "I purchased this sauce as it is the exact same sauce used at the hot sauce bar of Tijuana Flats (http://www.tijuanaflats.com/).  It goes amazing with steak tostadas but in my home cooking, it works wells as a marinade and as a condiment.\n",
      "==================================================\n",
      "SOMETHING TO EAT IF YOU'RE STARVING - BUT PLEASE GIVE REAL FOOD TO HUNGRY PEOPLE,<br /><br />What's in Kellogg's Corn Flakes? \"Milled Corn, Sugar, Malt Flavoring, High Fructose Corn Syrup, Salt.\" Yes, of course, it also has lots of yummy preservatives such as BHT and a few synthetic vitamins and iron in minute quantities. For nutrition you get basically 100% Carbs from lots of SUGAR and almost NO PROTEIN. Add skim milk, or you'll get saturated fat with a little protein from whole milk. For added nutrition, include a sliced banana and a capful of wheat germ.<br /><br />If you like Corn Flakes, that is your business and you should enjoy them, but this is not health food and it is a very poor value for more than 0.29 cents an ounce [$3.49 per package]. At this price, the inner package's failure to maintain freshness is an even bigger drawback when one thinks of how long it may take to finish 12 ounces of this stuff. Why not use a vacuum-sealed container like Kretschmer's Wheat Germ to preserve freshness? After all, it's in the same price range!<br /><br />So if you are hungry, you are really eating the wrong stuff. SOMETHING TO EAT IF YOU ARE STARVING - BUT PLEASE GIVE REAL FOOD TO OTHER HUNGRY PEOPLE PLEASE!\n",
      "==================================================\n",
      "My family really liked these muffins.  I also made them while on vacation at my sister's house, and her family loved them.  I just got back from a Bible study full of pretty picky eaters, and they all said they were good.  They're usually pretty honest about how the gluten-free food I take tastes, even telling me once that some store-bought cookies I took tasted like cardboard.<br /><br />I did notice a VERY SLIGHT bitter aftertaste, but it was not too bad.  I think next time I make these I may take the advice of one other reviewer and add a grated apple for that extra touch.  Oh, and I only added 3 TBS of sugar and think they were really good, as did everyone else who ate them.  I'm sure that if you add even more sugar, the slight aftertaste could disappear altogether.<br /><br />I just went to the Hodgson Mills website and saw that they did recently change the formulation to this mix, so maybe that improved the aftertaste.  This mix does not have garbanzo flour.  They use sorghum instead, now.  I did not make these as muffins.  I found that one box is perfect for 2 mini loaves, which I prefer to muffins.  Very good.  I will continue to make these when I need something fast and don't have time to make it from scratch.<br /><br />Oh, and to the poster who asked about gluten free pasta, Tinkyada makes a great brown rice pasta.\n",
      "==================================================\n"
     ]
    }
   ],
   "source": [
    "# printing some random reviews\n",
    "\n",
    "sent_22 = amazon_final_data['Text'].values[93]\n",
    "print(sent_22)\n",
    "print(\"=\"*50)\n",
    "\n",
    "sent_205= amazon_final_data['Text'].values[205]\n",
    "print(sent_205)\n",
    "print(\"=\"*50)\n",
    "\n",
    "sent_813=amazon_final_data['Text'].values[813]\n",
    "print(sent_813)\n",
    "print(\"=\"*50)\n"
   ]
  },
  {
   "cell_type": "code",
   "execution_count": 15,
   "metadata": {
    "scrolled": true
   },
   "outputs": [
    {
     "name": "stdout",
     "output_type": "stream",
     "text": [
      "I purchased this sauce as it is the exact same sauce used at the hot sauce bar of Tijuana Flats (  It goes amazing with steak tostadas but in my home cooking, it works wells as a marinade and as a condiment.\n",
      "==================================================\n"
     ]
    }
   ],
   "source": [
    "# remove urls from text python: https://stackoverflow.com/a/40823105/4084039\n",
    "sent_22 = re.sub(r\"http\\S+\", \"\", sent_22)\n",
    "print(sent_22)\n",
    "print(\"=\"*50)\n"
   ]
  },
  {
   "cell_type": "markdown",
   "metadata": {},
   "source": [
    "* We could see that the url in the review sent_22 has been removed."
   ]
  },
  {
   "cell_type": "markdown",
   "metadata": {},
   "source": [
    "### Now,\n",
    "* We try to remove all the html tags(< />) from the above texts and try to get only cleaned text using Beautiful Soup module."
   ]
  },
  {
   "cell_type": "code",
   "execution_count": 16,
   "metadata": {},
   "outputs": [
    {
     "name": "stdout",
     "output_type": "stream",
     "text": [
      "I purchased this sauce as it is the exact same sauce used at the hot sauce bar of Tijuana Flats (  It goes amazing with steak tostadas but in my home cooking, it works wells as a marinade and as a condiment.\n",
      "==================================================\n",
      "SOMETHING TO EAT IF YOU'RE STARVING - BUT PLEASE GIVE REAL FOOD TO HUNGRY PEOPLE,What's in Kellogg's Corn Flakes? \"Milled Corn, Sugar, Malt Flavoring, High Fructose Corn Syrup, Salt.\" Yes, of course, it also has lots of yummy preservatives such as BHT and a few synthetic vitamins and iron in minute quantities. For nutrition you get basically 100% Carbs from lots of SUGAR and almost NO PROTEIN. Add skim milk, or you'll get saturated fat with a little protein from whole milk. For added nutrition, include a sliced banana and a capful of wheat germ.If you like Corn Flakes, that is your business and you should enjoy them, but this is not health food and it is a very poor value for more than 0.29 cents an ounce [$3.49 per package]. At this price, the inner package's failure to maintain freshness is an even bigger drawback when one thinks of how long it may take to finish 12 ounces of this stuff. Why not use a vacuum-sealed container like Kretschmer's Wheat Germ to preserve freshness? After all, it's in the same price range!So if you are hungry, you are really eating the wrong stuff. SOMETHING TO EAT IF YOU ARE STARVING - BUT PLEASE GIVE REAL FOOD TO OTHER HUNGRY PEOPLE PLEASE!\n",
      "==================================================\n",
      "My family really liked these muffins.  I also made them while on vacation at my sister's house, and her family loved them.  I just got back from a Bible study full of pretty picky eaters, and they all said they were good.  They're usually pretty honest about how the gluten-free food I take tastes, even telling me once that some store-bought cookies I took tasted like cardboard.I did notice a VERY SLIGHT bitter aftertaste, but it was not too bad.  I think next time I make these I may take the advice of one other reviewer and add a grated apple for that extra touch.  Oh, and I only added 3 TBS of sugar and think they were really good, as did everyone else who ate them.  I'm sure that if you add even more sugar, the slight aftertaste could disappear altogether.I just went to the Hodgson Mills website and saw that they did recently change the formulation to this mix, so maybe that improved the aftertaste.  This mix does not have garbanzo flour.  They use sorghum instead, now.  I did not make these as muffins.  I found that one box is perfect for 2 mini loaves, which I prefer to muffins.  Very good.  I will continue to make these when I need something fast and don't have time to make it from scratch.Oh, and to the poster who asked about gluten free pasta, Tinkyada makes a great brown rice pasta.\n",
      "==================================================\n"
     ]
    }
   ],
   "source": [
    "# https://stackoverflow.com/questions/16206380/python-beautifulsoup-how-to-remove-all-tags-from-an-element\n",
    "from bs4 import BeautifulSoup\n",
    "\n",
    "# we use here an lxml's HTML parser since its a bit faster than the python's HTML parser\n",
    "\n",
    "soup = BeautifulSoup(sent_22, 'lxml')\n",
    "sent_22 = soup.get_text()\n",
    "print(sent_22)\n",
    "print(\"=\"*50)\n",
    "\n",
    "soup = BeautifulSoup(sent_205, 'lxml')\n",
    "sent_205 = soup.get_text()\n",
    "print(sent_205)\n",
    "print(\"=\"*50)\n",
    "\n",
    "soup = BeautifulSoup(sent_813, 'lxml')\n",
    "sent_813 = soup.get_text()\n",
    "print(sent_813)\n",
    "print(\"=\"*50)\n"
   ]
  },
  {
   "cell_type": "markdown",
   "metadata": {},
   "source": [
    "* Now, to make the text cleaner and containg only words, we can try expand all the contractions(such as expanding \"wasn't\" to \"was not\") in the reviews. "
   ]
  },
  {
   "cell_type": "code",
   "execution_count": 17,
   "metadata": {
    "collapsed": true
   },
   "outputs": [],
   "source": [
    "# https://stackoverflow.com/a/47091490/4084039\n",
    "\n",
    "#modified to account for uppercase letters.\n",
    "\n",
    "import re\n",
    "\n",
    "def decontracted(phrase):\n",
    "    # specific\n",
    "    phrase = re.sub(r\"won't\", \"will not\", phrase.lower())\n",
    "    phrase = re.sub(r\"can\\'t\", \"can not\", phrase.lower())\n",
    "\n",
    "    # general\n",
    "    phrase = re.sub(r\"n\\'t\", \" not\", phrase.lower())\n",
    "    phrase = re.sub(r\"\\'re\", \" are\", phrase.lower())\n",
    "    phrase = re.sub(r\"\\'s\", \" is\", phrase.lower())\n",
    "    phrase = re.sub(r\"\\'d\", \" would\", phrase.lower())\n",
    "    phrase = re.sub(r\"\\'ll\", \" will\", phrase.lower())\n",
    "    phrase = re.sub(r\"\\'t\", \" not\", phrase.lower())\n",
    "    phrase = re.sub(r\"\\'ve\", \" have\", phrase.lower())\n",
    "    phrase = re.sub(r\"\\'m\", \" am\",phrase.lower())\n",
    "    return phrase"
   ]
  },
  {
   "cell_type": "markdown",
   "metadata": {},
   "source": [
    "* Although the above code has some short comings like \"Jack's going\" vs \"Jack's work\"(output with above code would be \" Jack is going\" vs \"Jack is work\"), we can see that it doesn't affect much since \"is\" is included in English stopwords."
   ]
  },
  {
   "cell_type": "code",
   "execution_count": 18,
   "metadata": {
    "scrolled": true
   },
   "outputs": [
    {
     "name": "stdout",
     "output_type": "stream",
     "text": [
      "SOMETHING TO EAT IF YOU'RE STARVING - BUT PLEASE GIVE REAL FOOD TO HUNGRY PEOPLE,What's in Kellogg's Corn Flakes? \"Milled Corn, Sugar, Malt Flavoring, High Fructose Corn Syrup, Salt.\" Yes, of course, it also has lots of yummy preservatives such as BHT and a few synthetic vitamins and iron in minute quantities. For nutrition you get basically 100% Carbs from lots of SUGAR and almost NO PROTEIN. Add skim milk, or you'll get saturated fat with a little protein from whole milk. For added nutrition, include a sliced banana and a capful of wheat germ.If you like Corn Flakes, that is your business and you should enjoy them, but this is not health food and it is a very poor value for more than 0.29 cents an ounce [$3.49 per package]. At this price, the inner package's failure to maintain freshness is an even bigger drawback when one thinks of how long it may take to finish 12 ounces of this stuff. Why not use a vacuum-sealed container like Kretschmer's Wheat Germ to preserve freshness? After all, it's in the same price range!So if you are hungry, you are really eating the wrong stuff. SOMETHING TO EAT IF YOU ARE STARVING - BUT PLEASE GIVE REAL FOOD TO OTHER HUNGRY PEOPLE PLEASE!\n"
     ]
    }
   ],
   "source": [
    "print(sent_205)"
   ]
  },
  {
   "cell_type": "code",
   "execution_count": 19,
   "metadata": {
    "scrolled": true
   },
   "outputs": [
    {
     "name": "stdout",
     "output_type": "stream",
     "text": [
      "something to eat if you are starving - but please give real food to hungry people,what is in kellogg is corn flakes? \"milled corn, sugar, malt flavoring, high fructose corn syrup, salt.\" yes, of course, it also has lots of yummy preservatives such as bht and a few synthetic vitamins and iron in minute quantities. for nutrition you get basically 100% carbs from lots of sugar and almost no protein. add skim milk, or you will get saturated fat with a little protein from whole milk. for added nutrition, include a sliced banana and a capful of wheat germ.if you like corn flakes, that is your business and you should enjoy them, but this is not health food and it is a very poor value for more than 0.29 cents an ounce [$3.49 per package]. at this price, the inner package is failure to maintain freshness is an even bigger drawback when one thinks of how long it may take to finish 12 ounces of this stuff. why not use a vacuum-sealed container like kretschmer is wheat germ to preserve freshness? after all, it is in the same price range!so if you are hungry, you are really eating the wrong stuff. something to eat if you are starving - but please give real food to other hungry people please!\n",
      "==================================================\n"
     ]
    }
   ],
   "source": [
    "sent_205 = decontracted(sent_205)\n",
    "print(sent_205)\n",
    "print(\"=\"*50)\n"
   ]
  },
  {
   "cell_type": "code",
   "execution_count": 20,
   "metadata": {},
   "outputs": [
    {
     "name": "stdout",
     "output_type": "stream",
     "text": [
      "something to eat if you are starving - but please give real food to hungry people,what is in kellogg is corn flakes? \"milled corn, sugar, malt flavoring, high fructose corn syrup, salt.\" yes, of course, it also has lots of yummy preservatives such as bht and a few synthetic vitamins and iron in minute quantities. for nutrition you get basically  carbs from lots of sugar and almost no protein. add skim milk, or you will get saturated fat with a little protein from whole milk. for added nutrition, include a sliced banana and a capful of wheat germ.if you like corn flakes, that is your business and you should enjoy them, but this is not health food and it is a very poor value for more than  cents an ounce  per package]. at this price, the inner package is failure to maintain freshness is an even bigger drawback when one thinks of how long it may take to finish  ounces of this stuff. why not use a vacuum-sealed container like kretschmer is wheat germ to preserve freshness? after all, it is in the same price range!so if you are hungry, you are really eating the wrong stuff. something to eat if you are starving - but please give real food to other hungry people please!\n"
     ]
    }
   ],
   "source": [
    "#remove words with numbers python: https://stackoverflow.com/a/18082370/4084039\n",
    "sent_205 = re.sub(\"\\S*\\d\\S*\", \"\", sent_205).strip()\n",
    "print(sent_205)"
   ]
  },
  {
   "cell_type": "code",
   "execution_count": 21,
   "metadata": {},
   "outputs": [
    {
     "name": "stdout",
     "output_type": "stream",
     "text": [
      "something to eat if you are starving but please give real food to hungry people what is in kellogg is corn flakes milled corn sugar malt flavoring high fructose corn syrup salt yes of course it also has lots of yummy preservatives such as bht and a few synthetic vitamins and iron in minute quantities for nutrition you get basically carbs from lots of sugar and almost no protein add skim milk or you will get saturated fat with a little protein from whole milk for added nutrition include a sliced banana and a capful of wheat germ if you like corn flakes that is your business and you should enjoy them but this is not health food and it is a very poor value for more than cents an ounce per package at this price the inner package is failure to maintain freshness is an even bigger drawback when one thinks of how long it may take to finish ounces of this stuff why not use a vacuum sealed container like kretschmer is wheat germ to preserve freshness after all it is in the same price range so if you are hungry you are really eating the wrong stuff something to eat if you are starving but please give real food to other hungry people please \n"
     ]
    }
   ],
   "source": [
    "#remove words that are not letters or numbers  https://stackoverflow.com/a/5843547/4084039\n",
    "sent_205 = re.sub('[^A-Za-z0-9]+', ' ', sent_205)\n",
    "print(sent_205)"
   ]
  },
  {
   "cell_type": "code",
   "execution_count": 22,
   "metadata": {
    "collapsed": true
   },
   "outputs": [],
   "source": [
    "# https://gist.github.com/sebleier/554280\n",
    "# Removing the words from the stop words list: 'no', 'nor', 'not'\n",
    "\n",
    "stopwords= set(['br', 'the', 'i', 'me', 'my', 'myself', 'we', 'our', 'ours', 'ourselves', 'you', \"you're\", \"you've\",\\\n",
    "            \"you'll\", \"you'd\", 'your', 'yours', 'yourself', 'yourselves', 'he', 'him', 'his', 'himself', \\\n",
    "            'she', \"she's\", 'her', 'hers', 'herself', 'it', \"it's\", 'its', 'itself', 'they', 'them', 'their',\\\n",
    "            'theirs', 'themselves', 'what', 'which', 'who', 'whom', 'this', 'that', \"that'll\", 'these', 'those', \\\n",
    "            'am', 'is', 'are', 'was', 'were', 'be', 'been', 'being', 'have', 'has', 'had', 'having', 'do', 'does', \\\n",
    "            'did', 'doing', 'a', 'an', 'the', 'and', 'but', 'if', 'or', 'because', 'as', 'until', 'while', 'of', \\\n",
    "            'at', 'by', 'for', 'with', 'about', 'against', 'between', 'into', 'through', 'during', 'before', 'after',\\\n",
    "            'above', 'below', 'to', 'from', 'up', 'down', 'in', 'out', 'on', 'off', 'over', 'under', 'again', 'further',\\\n",
    "            'then', 'once', 'here', 'there', 'when', 'where', 'why', 'how', 'all', 'any', 'both', 'each', 'few', 'more',\\\n",
    "            'most', 'other', 'some', 'such', 'only', 'own', 'same', 'so', 'than', 'too', 'very', \\\n",
    "            's', 't', 'can', 'will', 'just', 'don', \"don't\", 'should', \"should've\", 'now', 'd', 'll', 'm', 'o', 're', \\\n",
    "            've', 'y', 'ain', 'aren', \"aren't\", 'couldn', \"couldn't\", 'didn', \"didn't\", 'doesn', \"doesn't\", 'hadn',\\\n",
    "            \"hadn't\", 'hasn', \"hasn't\", 'haven', \"haven't\", 'isn', \"isn't\", 'ma', 'mightn', \"mightn't\", 'mustn',\\\n",
    "            \"mustn't\", 'needn', \"needn't\", 'shan', \"shan't\", 'shouldn', \"shouldn't\", 'wasn', \"wasn't\", 'weren', \"weren't\", \\\n",
    "            'won', \"won't\", 'wouldn', \"wouldn't\"])"
   ]
  },
  {
   "cell_type": "code",
   "execution_count": 23,
   "metadata": {
    "scrolled": true
   },
   "outputs": [
    {
     "name": "stderr",
     "output_type": "stream",
     "text": [
      "100%|████████████████████████████████████| 5871/5871 [00:02<00:00, 2122.62it/s]\n"
     ]
    }
   ],
   "source": [
    "# Combining all the above steps \n",
    "#sno = nltk.stem.SnowballStemmer('english')\n",
    "\n",
    "from tqdm import tqdm\n",
    "preprocessed_reviews = []\n",
    "# tqdm is for printing the status bar\n",
    "for sentence in tqdm(amazon_final_data['Text'].values):\n",
    "    sentence = re.sub(r\"http\\S+\", \"\", sentence)\n",
    "    sentence = BeautifulSoup(sentence, 'lxml').get_text()\n",
    "    sentence = decontracted(sentence)\n",
    "    sentence = re.sub(\"\\S*\\d\\S*\", \"\", sentence).strip()\n",
    "    sentence = re.sub('[^A-Za-z]+', ' ', sentence)\n",
    "    # https://gist.github.com/sebleier/554280\n",
    "    sentence = ' '.join(e.lower() for e in sentence.split() if e.lower() not in stopwords)\n",
    "    #for e in sentence.split():\n",
    "        #sentence = ' '.join(sno.stem(e))\n",
    "    preprocessed_reviews.append(sentence.strip())"
   ]
  },
  {
   "cell_type": "code",
   "execution_count": 27,
   "metadata": {},
   "outputs": [
    {
     "name": "stderr",
     "output_type": "stream",
     "text": [
      "100%|█████████████████████████████████████| 5871/5871 [00:05<00:00, 994.18it/s]\n"
     ]
    }
   ],
   "source": [
    "## Finally Stemming the words\n",
    "\n",
    "sno = nltk.stem.SnowballStemmer('english')\n",
    "from tqdm import tqdm\n",
    "preprocessed_reviews_stem = []\n",
    "# tqdm is for printing the status bar\n",
    "for sentence in tqdm(preprocessed_reviews):\n",
    "    filtered_sentence = []\n",
    "    for words in sentence.split():\n",
    "        s=(sno.stem(words))\n",
    "        filtered_sentence.append(s)\n",
    "        #sentence = ' '.join(sno.stem(e))\n",
    "    str_stemmed = ' '.join(filtered_sentence)\n",
    "    preprocessed_reviews_stem.append(str_stemmed)"
   ]
  },
  {
   "cell_type": "code",
   "execution_count": 28,
   "metadata": {},
   "outputs": [
    {
     "data": {
      "text/plain": [
       "'good thing chipotle flavor generally smoked jalapenos bit milder flavorful regular raw jalapenos not case powder chili chipotle powder hot hot hot seriously lacking flavor thing extremely fine grind sprinkle sauce enough enters air end inhaling feels like burning nose yuck stick plain old generic chili powder instead'"
      ]
     },
     "execution_count": 28,
     "metadata": {},
     "output_type": "execute_result"
    }
   ],
   "source": [
    "preprocessed_reviews[150]"
   ]
  },
  {
   "cell_type": "code",
   "execution_count": 29,
   "metadata": {
    "scrolled": true
   },
   "outputs": [
    {
     "data": {
      "text/plain": [
       "'good thing chipotl flavor general smoke jalapeno bit milder flavor regular raw jalapeno not case powder chili chipotl powder hot hot hot serious lack flavor thing extrem fine grind sprinkl sauc enough enter air end inhal feel like burn nose yuck stick plain old generic chili powder instead'"
      ]
     },
     "execution_count": 29,
     "metadata": {},
     "output_type": "execute_result"
    }
   ],
   "source": [
    "preprocessed_reviews_stem[150]"
   ]
  },
  {
   "cell_type": "markdown",
   "metadata": {},
   "source": [
    "* I intend to use the unstemmed reviews for further processing, since,given a transformer like Word2Vec, to find a vector for a word, it is easy to give the general word as input rather than the stemmed word. "
   ]
  },
  {
   "cell_type": "markdown",
   "metadata": {},
   "source": [
    "# [4] Featurization\n",
    "\n",
    "## [4.1] BAG OF WORDS"
   ]
  },
  {
   "cell_type": "code",
   "execution_count": 30,
   "metadata": {},
   "outputs": [
    {
     "name": "stdout",
     "output_type": "stream",
     "text": [
      "some feature names  ['aa', 'aahhhs', 'aback', 'abandoned', 'abates', 'abby', 'abc', 'abdomen', 'abdominal', 'abide']\n",
      "==================================================\n",
      "the type of count vectorizer  <class 'scipy.sparse.csr.csr_matrix'>\n",
      "the shape of out text BOW vectorizer  (5871, 14868)\n",
      "the number of unique words  14868\n"
     ]
    }
   ],
   "source": [
    "#BoW\n",
    "count_vect = CountVectorizer() #in scikit-learn\n",
    "count_vect.fit(preprocessed_reviews)\n",
    "print(\"some feature names \", count_vect.get_feature_names()[:10])\n",
    "print('='*50)\n",
    "\n",
    "final_counts = count_vect.transform(preprocessed_reviews)\n",
    "print(\"the type of count vectorizer \",type(final_counts))\n",
    "print(\"the shape of out text BOW vectorizer \",final_counts.get_shape())\n",
    "print(\"the number of unique words \", final_counts.get_shape()[1])"
   ]
  },
  {
   "cell_type": "markdown",
   "metadata": {},
   "source": [
    "## [4.2] Bi-Grams and n-Grams"
   ]
  },
  {
   "cell_type": "code",
   "execution_count": 31,
   "metadata": {},
   "outputs": [
    {
     "name": "stdout",
     "output_type": "stream",
     "text": [
      "the type of count vectorizer  <class 'scipy.sparse.csr.csr_matrix'>\n",
      "the shape of out text BOW vectorizer  (5871, 3843)\n",
      "the number of unique words including both unigrams and bigrams  3843\n"
     ]
    }
   ],
   "source": [
    "#bi-gram, tri-gram and n-gram\n",
    "\n",
    "#removing stop words like \"not\" should be avoided before building n-grams\n",
    "\n",
    "count_vect = CountVectorizer(ngram_range=(1,2), min_df=10, max_features=5000)\n",
    "final_bigram_counts = count_vect.fit_transform(preprocessed_reviews)\n",
    "print(\"the type of count vectorizer \",type(final_bigram_counts))\n",
    "print(\"the shape of out text BOW vectorizer \",final_bigram_counts.get_shape())\n",
    "print(\"the number of unique words including both unigrams and bigrams \", final_bigram_counts.get_shape()[1])"
   ]
  },
  {
   "cell_type": "markdown",
   "metadata": {},
   "source": [
    "## [4.3] TF-IDF"
   ]
  },
  {
   "cell_type": "code",
   "execution_count": 32,
   "metadata": {
    "scrolled": true
   },
   "outputs": [
    {
     "name": "stdout",
     "output_type": "stream",
     "text": [
      "some sample features(unique words in the corpus) ['ability', 'able', 'able find', 'able get', 'absolute', 'absolutely', 'absolutely delicious', 'absolutely love', 'absolutely no', 'accept']\n",
      "==================================================\n",
      "the type of count vectorizer  <class 'scipy.sparse.csr.csr_matrix'>\n",
      "the shape of out text TFIDF vectorizer  (5871, 3843)\n",
      "the number of unique words including both unigrams and bigrams  3843\n"
     ]
    }
   ],
   "source": [
    "tf_idf_vect = TfidfVectorizer(ngram_range=(1,2), min_df=10)\n",
    "tf_idf_vect.fit(preprocessed_reviews)\n",
    "print(\"some sample features(unique words in the corpus)\",tf_idf_vect.get_feature_names()[0:10])\n",
    "print('='*50)\n",
    "\n",
    "final_tf_idf = tf_idf_vect.transform(preprocessed_reviews)\n",
    "print(\"the type of count vectorizer \",type(final_tf_idf))\n",
    "print(\"the shape of out text TFIDF vectorizer \",final_tf_idf.get_shape())\n",
    "print(\"the number of unique words including both unigrams and bigrams \", final_tf_idf.get_shape()[1])"
   ]
  },
  {
   "cell_type": "markdown",
   "metadata": {},
   "source": [
    "## [4.4] Word2Vec"
   ]
  },
  {
   "cell_type": "code",
   "execution_count": 33,
   "metadata": {
    "collapsed": true
   },
   "outputs": [],
   "source": [
    "# Creating text corpus suitable for applying Word2Vec and hence training our own model\n",
    "i=0\n",
    "list_of_sentence=[]\n",
    "for sentence in preprocessed_reviews:\n",
    "    list_of_sentence.append(sentence.split())    "
   ]
  },
  {
   "cell_type": "code",
   "execution_count": 34,
   "metadata": {},
   "outputs": [
    {
     "name": "stdout",
     "output_type": "stream",
     "text": [
      "[('salty', 0.9890798330307007), ('tasty', 0.9875370264053345), ('regular', 0.9871764183044434), ('crunchy', 0.9864543080329895), ('overly', 0.9853894710540771), ('buds', 0.9851935505867004), ('pretty', 0.9851751923561096), ('pronounced', 0.9851549863815308), ('texture', 0.9850465059280396), ('describe', 0.9848858714103699)]\n",
      "==================================================\n",
      "[('mahogany', 0.9979826211929321), ('french', 0.9979604482650757), ('earl', 0.997790515422821), ('grey', 0.9975236058235168), ('coffees', 0.9974504709243774), ('starbucks', 0.9973468780517578), ('drinker', 0.9973326921463013), ('mustard', 0.997237503528595), ('brewing', 0.9972161054611206), ('teas', 0.9972031116485596)]\n"
     ]
    }
   ],
   "source": [
    "# min_count = 5 considers only words that occured atleast 5 times\n",
    "w2v_model=Word2Vec(list_of_sentence,min_count=5,size=50, workers=4)\n",
    "print(w2v_model.wv.most_similar('great'))\n",
    "print('='*50)\n",
    "print(w2v_model.wv.most_similar('worst'))"
   ]
  },
  {
   "cell_type": "code",
   "execution_count": 35,
   "metadata": {
    "scrolled": false
   },
   "outputs": [
    {
     "name": "stdout",
     "output_type": "stream",
     "text": [
      "number of words that occured minimum 5 times  4479\n",
      "sample words  ['product', 'available', 'course', 'total', 'fly', 'pretty', 'stinky', 'right', 'nearby', 'used', 'bait', 'not', 'beat', 'great', 'received', 'shipment', 'could', 'hardly', 'wait', 'try', 'love', 'call', 'instead', 'stickers', 'removed', 'easily', 'daughter', 'designed', 'signs', 'printed', 'use', 'car', 'windows', 'print', 'shop', 'program', 'going', 'lot', 'fun', 'everywhere', 'like', 'tv', 'computer', 'really', 'good', 'idea', 'final', 'outstanding', 'everybody', 'asks']\n"
     ]
    }
   ],
   "source": [
    "w2v_words = list(w2v_model.wv.vocab)\n",
    "print(\"number of words that occured minimum 5 times \",len(w2v_words))\n",
    "print(\"sample words \", w2v_words[0:50])"
   ]
  },
  {
   "cell_type": "code",
   "execution_count": 36,
   "metadata": {},
   "outputs": [
    {
     "data": {
      "text/plain": [
       "4479"
      ]
     },
     "execution_count": 36,
     "metadata": {},
     "output_type": "execute_result"
    }
   ],
   "source": [
    "len(w2v_words)"
   ]
  },
  {
   "cell_type": "markdown",
   "metadata": {},
   "source": [
    "## [4.4.1] Converting text into vectors using wAvg W2V, TFIDF-W2V\n",
    "\n",
    "#### [4.4.1.1] Avg W2v"
   ]
  },
  {
   "cell_type": "code",
   "execution_count": 37,
   "metadata": {},
   "outputs": [
    {
     "name": "stderr",
     "output_type": "stream",
     "text": [
      "100%|█████████████████████████████████████| 5871/5871 [00:07<00:00, 768.93it/s]\n"
     ]
    },
    {
     "name": "stdout",
     "output_type": "stream",
     "text": [
      "5871\n",
      "50\n"
     ]
    }
   ],
   "source": [
    "# average Word2Vec\n",
    "# compute average word2vec for each review.\n",
    "sent_vectors = []; # the avg-w2v for each sentence/review is stored in this list\n",
    "for sent in tqdm(list_of_sentence): # for each review/sentence\n",
    "    sent_vec = np.zeros(50) # as word vectors are of zero length 50 (we defined it above)\n",
    "    cnt_words =0; # num of words with a valid vector in the sentence/review\n",
    "    for word in sent: # for each word in a review/sentence\n",
    "        if word in w2v_words:\n",
    "            vec = w2v_model.wv[word]\n",
    "            sent_vec += vec\n",
    "            cnt_words += 1\n",
    "    if cnt_words != 0:\n",
    "        sent_vec /= cnt_words\n",
    "    sent_vectors.append(sent_vec)\n",
    "print(len(sent_vectors))\n",
    "print(len(sent_vectors[0]))"
   ]
  },
  {
   "cell_type": "code",
   "execution_count": 38,
   "metadata": {
    "scrolled": true
   },
   "outputs": [
    {
     "data": {
      "text/plain": [
       "array([ 0.13986443, -0.32905559,  0.0839648 ,  0.15569394, -0.06162367,\n",
       "       -0.35494658, -0.349129  , -0.1704602 ,  0.39488774, -0.26017467,\n",
       "       -0.46649311, -0.48082387,  0.43551859, -0.14307521, -0.26527399,\n",
       "        0.04576686,  0.45530702,  0.49593198, -0.57838785, -0.50520498,\n",
       "       -0.66531748, -0.15518975,  0.36008927,  0.44446588,  0.32785157,\n",
       "        0.12268131, -0.01107962,  0.08956372, -0.1561662 ,  0.17313281,\n",
       "       -0.21163147, -0.40848456,  0.15393201, -0.29035895, -0.2455873 ,\n",
       "        0.45654938,  0.02235804,  0.14324007, -0.48301597,  0.10608581,\n",
       "        0.17094897,  0.21166089, -0.10010956, -0.06497104,  0.28299828,\n",
       "        0.14879643, -0.65261449, -0.06014545, -0.2406535 , -0.52637394])"
      ]
     },
     "execution_count": 38,
     "metadata": {},
     "output_type": "execute_result"
    }
   ],
   "source": [
    "sent_vectors[0]"
   ]
  },
  {
   "cell_type": "code",
   "execution_count": 39,
   "metadata": {},
   "outputs": [
    {
     "name": "stdout",
     "output_type": "stream",
     "text": [
      "<class 'list'>\n",
      "<class 'numpy.ndarray'>\n"
     ]
    }
   ],
   "source": [
    "print(type(sent_vectors))\n",
    "print(type(sent_vectors[0]))"
   ]
  },
  {
   "cell_type": "code",
   "execution_count": 40,
   "metadata": {},
   "outputs": [
    {
     "data": {
      "text/plain": [
       "numpy.matrixlib.defmatrix.matrix"
      ]
     },
     "execution_count": 40,
     "metadata": {},
     "output_type": "execute_result"
    }
   ],
   "source": [
    "sent_vectors_arr = np.array(sent_vectors)\n",
    "sent_vectors_mat = np.asmatrix(sent_vectors_arr)\n",
    "type(sent_vectors_mat)"
   ]
  },
  {
   "cell_type": "markdown",
   "metadata": {},
   "source": [
    "#### [4.4.1.2] TFIDF weighted W2v"
   ]
  },
  {
   "cell_type": "code",
   "execution_count": 41,
   "metadata": {
    "collapsed": true
   },
   "outputs": [],
   "source": [
    "# S = [\"abc def pqr\", \"def def def abc\", \"pqr pqr def\"]\n",
    "model = TfidfVectorizer()\n",
    "model.fit(preprocessed_reviews)\n",
    "# we are converting a dictionary with word as a key, and the idf as a value\n",
    "dictionary = dict(zip(model.get_feature_names(), list(model.idf_)))"
   ]
  },
  {
   "cell_type": "code",
   "execution_count": 42,
   "metadata": {
    "scrolled": true
   },
   "outputs": [
    {
     "name": "stderr",
     "output_type": "stream",
     "text": [
      "100%|█████████████████████████████████████| 5871/5871 [00:47<00:00, 122.42it/s]\n"
     ]
    }
   ],
   "source": [
    "# TF-IDF weighted Word2Vec\n",
    "tfidf_feat = model.get_feature_names() # tfidf words/col-names\n",
    "# final_tf_idf is the sparse matrix with row= sentence, col=word and cell_val = tfidf\n",
    "\n",
    "tfidf_sent_vectors = []; # the tfidf-w2v for each sentence/review is stored in this list\n",
    "row=0;\n",
    "for sent in tqdm(list_of_sentence): # for each review/sentence \n",
    "    sent_vec = np.zeros(50) # as word vectors are of zero length\n",
    "    weight_sum =0; # num of words with a valid vector in the sentence/review\n",
    "    for word in sent: # for each word in a review/sentence\n",
    "        if word in w2v_words and word in tfidf_feat:\n",
    "            vec = w2v_model.wv[word]\n",
    "#             tf_idf = tf_idf_matrix[row, tfidf_feat.index(word)]\n",
    "            # to reduce the computation we are \n",
    "            # dictionary[word] = idf value of word in whole courpus\n",
    "            # sent.count(word) = tf valeus of word in this review\n",
    "            tf_idf = dictionary[word]*(sent.count(word)/len(sent))\n",
    "            sent_vec += (vec * tf_idf)\n",
    "            weight_sum += tf_idf\n",
    "    if weight_sum != 0:\n",
    "        sent_vec /= weight_sum\n",
    "    tfidf_sent_vectors.append(sent_vec)\n",
    "    row += 1"
   ]
  },
  {
   "cell_type": "code",
   "execution_count": 43,
   "metadata": {},
   "outputs": [
    {
     "name": "stdout",
     "output_type": "stream",
     "text": [
      "<class 'list'>\n",
      "<class 'numpy.ndarray'>\n"
     ]
    }
   ],
   "source": [
    "print(type(tfidf_sent_vectors))\n",
    "print(type(tfidf_sent_vectors[0]))"
   ]
  },
  {
   "cell_type": "code",
   "execution_count": 44,
   "metadata": {},
   "outputs": [
    {
     "data": {
      "text/plain": [
       "numpy.matrixlib.defmatrix.matrix"
      ]
     },
     "execution_count": 44,
     "metadata": {},
     "output_type": "execute_result"
    }
   ],
   "source": [
    "tfidf_sent_vectors_arr =np.array(tfidf_sent_vectors)\n",
    "tfidf_sent_vectors_mat = np.asmatrix(tfidf_sent_vectors_arr)\n",
    "type(tfidf_sent_vectors_mat)"
   ]
  },
  {
   "cell_type": "markdown",
   "metadata": {},
   "source": [
    "# [5] Applying t-SNE"
   ]
  },
  {
   "cell_type": "markdown",
   "metadata": {},
   "source": [
    "* Since, t-SNE is a memory intensive problem, I'm taking top 4000 data points from our sampled data for the following analysis."
   ]
  },
  {
   "cell_type": "markdown",
   "metadata": {},
   "source": [
    "## [5.1] Applying t-SNE on Text BOW vectors"
   ]
  },
  {
   "cell_type": "code",
   "execution_count": 45,
   "metadata": {
    "scrolled": true
   },
   "outputs": [
    {
     "data": {
      "text/plain": [
       "array([[-0.01305212, -0.01305212, -0.01846005, ..., -0.01846005,\n",
       "        -0.01305212, -0.01305212],\n",
       "       [-0.01305212, -0.01305212, -0.01846005, ..., -0.01846005,\n",
       "        -0.01305212, -0.01305212],\n",
       "       [-0.01305212, -0.01305212, -0.01846005, ..., -0.01846005,\n",
       "        -0.01305212, -0.01305212],\n",
       "       ..., \n",
       "       [-0.01305212, -0.01305212, -0.01846005, ..., -0.01846005,\n",
       "        -0.01305212, -0.01305212],\n",
       "       [-0.01305212, -0.01305212, -0.01846005, ..., -0.01846005,\n",
       "        -0.01305212, -0.01305212],\n",
       "       [-0.01305212, -0.01305212, -0.01846005, ..., -0.01846005,\n",
       "        -0.01305212, -0.01305212]])"
      ]
     },
     "execution_count": 45,
     "metadata": {},
     "output_type": "execute_result"
    }
   ],
   "source": [
    "# Since t-SNE accepts only dense matrices and BoW tansformer gives sparse output,\n",
    "#we convert BoW output to dense matrices.\n",
    "final_counts_dense = final_counts.todense()\n",
    "\n",
    "# Standardizing the columns before applying t-SNE technique\n",
    "from sklearn.preprocessing import StandardScaler\n",
    "scaler = StandardScaler(copy=True, with_std=True)\n",
    "scaler.fit(final_counts_dense)\n",
    "scaler.transform(final_counts_dense)"
   ]
  },
  {
   "cell_type": "code",
   "execution_count": 46,
   "metadata": {
    "scrolled": true
   },
   "outputs": [
    {
     "data": {
      "image/png": "[encoded data removed]",
      "text/plain": [
       "<matplotlib.figure.Figure at 0x1d02c806518>"
      ]
     },
     "metadata": {},
     "output_type": "display_data"
    },
    {
     "name": "stdout",
     "output_type": "stream",
     "text": [
      "640.375485420227\n"
     ]
    }
   ],
   "source": [
    "import time\n",
    "start = time.time()\n",
    "\n",
    "from sklearn.manifold import TSNE\n",
    "\n",
    "# configuring the parameteres\n",
    "# the number of components = 2 (The no. of dimensions in which we want to visulaize)\n",
    "# perplexity = 30 (30 datapoints are considered in a neighbourhood)\n",
    "# Maximum number of iterations for the optimization = 4000\n",
    "# init='pca' initializing the t-SNE to use the first two principal components from PCA on the input data, \n",
    "# rescaled to have the same standard deviation as the gaussian distribution from the random initialization (0.0001). \n",
    "\n",
    "model = TSNE(n_components=2, random_state=0,perplexity= 30.0,n_iter=4000,init='pca')\n",
    "tsne_data = model.fit_transform(final_counts_dense[0:4000,:])\n",
    "\n",
    "\n",
    "# creating a new data frame which help us in ploting the result data\n",
    "tsne_data = np.vstack((tsne_data.T, amazon_final_data['Score'][0:4000])).T\n",
    "tsne_df = pd.DataFrame(data=tsne_data, columns=(\"X\", \"Y\", \"Rating\"))\n",
    "\n",
    "# Ploting the result of tsne\n",
    "sns.FacetGrid(tsne_df, hue=\"Rating\", size=6).map(plt.scatter, 'X', 'Y').add_legend()\n",
    "plt.title(\"t-SNE visualization for Bag of Words\")\n",
    "plt.show()\n",
    "\n",
    "end = time.time()\n",
    "print(end - start)"
   ]
  },
  {
   "cell_type": "markdown",
   "metadata": {},
   "source": [
    "## Observations:\n",
    "* Although positive and negative reviews are grouped together per class, both the groups are completely overlapping making it difficult to have a linear separation between them."
   ]
  },
  {
   "cell_type": "markdown",
   "metadata": {},
   "source": [
    "## [5.2] Applying t-SNE on Text TFIDF vectors\n"
   ]
  },
  {
   "cell_type": "code",
   "execution_count": 47,
   "metadata": {},
   "outputs": [
    {
     "data": {
      "text/plain": [
       "array([[-0.04046513, -0.13901085, -0.05380162, ..., -0.06389709,\n",
       "        -0.04166701, -0.0409456 ],\n",
       "       [-0.04046513, -0.13901085, -0.05380162, ..., -0.06389709,\n",
       "        -0.04166701, -0.0409456 ],\n",
       "       [-0.04046513, -0.13901085, -0.05380162, ..., -0.06389709,\n",
       "        -0.04166701, -0.0409456 ],\n",
       "       ..., \n",
       "       [-0.04046513, -0.13901085, -0.05380162, ..., -0.06389709,\n",
       "        -0.04166701, -0.0409456 ],\n",
       "       [-0.04046513, -0.13901085, -0.05380162, ..., -0.06389709,\n",
       "        -0.04166701, -0.0409456 ],\n",
       "       [-0.04046513, -0.13901085, -0.05380162, ..., -0.06389709,\n",
       "        -0.04166701, -0.0409456 ]])"
      ]
     },
     "execution_count": 47,
     "metadata": {},
     "output_type": "execute_result"
    }
   ],
   "source": [
    "# Since t-SNE accepts only dense matrices and TFIDF tansformer gives sparse output,\n",
    "#we convert its output to dense matrices.\n",
    "final_tf_idf_dense = final_tf_idf .todense()\n",
    "\n",
    "# Standardizing the columns before applying t-SNE technique\n",
    "from sklearn.preprocessing import StandardScaler\n",
    "scaler = StandardScaler(copy=True, with_std=True)\n",
    "scaler.fit(final_tf_idf_dense)\n",
    "scaler.transform(final_tf_idf_dense)"
   ]
  },
  {
   "cell_type": "code",
   "execution_count": 48,
   "metadata": {
    "scrolled": true
   },
   "outputs": [
    {
     "data": {
      "image/png": "[encoded data removed]",
      "text/plain": [
       "<matplotlib.figure.Figure at 0x1d02c86d0b8>"
      ]
     },
     "metadata": {},
     "output_type": "display_data"
    },
    {
     "name": "stdout",
     "output_type": "stream",
     "text": [
      "217.22415256500244\n"
     ]
    }
   ],
   "source": [
    "import time\n",
    "start = time.time()\n",
    "\n",
    "from sklearn.manifold import TSNE\n",
    "\n",
    "# configuring the parameteres\n",
    "# the number of components = 2 (The no. of dimensions in which we want to visulaize)\n",
    "# perplexity = 30 (30 datapoints are considered in a neighbourhood)\n",
    "# Maximum number of iterations for the optimization = 4000\n",
    "# init='pca' initializing the t-SNE to use the first two principal components from PCA on the input data, \n",
    "# rescaled to have the same standard deviation as the gaussian distribution from the random initialization (0.0001). \n",
    "model = TSNE(n_components=2, random_state=0,perplexity= 30.0,n_iter=4000,init='pca')\n",
    "tsne_data = model.fit_transform(final_tf_idf_dense[0:4000,:])\n",
    "\n",
    "# creating a new data frame which help us in ploting the result data\n",
    "tsne_data = np.vstack((tsne_data.T, amazon_final_data['Score'][0:4000])).T\n",
    "tsne_df = pd.DataFrame(data=tsne_data, columns=(\"X-axis\", \"Y-axis\", \"Rating\"))\n",
    "\n",
    "# Ploting the result of tsne\n",
    "sns.FacetGrid(tsne_df, hue=\"Rating\", size=6).map(plt.scatter, \"X-axis\", \"Y-axis\").add_legend()\n",
    "plt.title(\"t-SNE visualization for TFIDF vectors\")\n",
    "plt.show()\n",
    "end = time.time()\n",
    "print(end - start)"
   ]
  },
  {
   "cell_type": "markdown",
   "metadata": {},
   "source": [
    "## Observations:\n",
    "* Positive and Negative reviews are scattered all around and are overlapping in some regions."
   ]
  },
  {
   "cell_type": "markdown",
   "metadata": {},
   "source": [
    "## [5.3] Applying t-SNE on Text Avg W2V vectors"
   ]
  },
  {
   "cell_type": "code",
   "execution_count": 49,
   "metadata": {},
   "outputs": [
    {
     "data": {
      "text/plain": [
       "array([[-1.09552276,  1.36609701,  0.7095536 , ..., -0.54598348,\n",
       "         0.332679  ,  1.11367686],\n",
       "       [-1.10989088,  0.64522452, -0.10092322, ..., -0.36768487,\n",
       "         1.07366291,  1.18983987],\n",
       "       [-0.95980016,  1.48400631,  0.3925037 , ..., -0.2200107 ,\n",
       "         1.24280488,  1.42309728],\n",
       "       ..., \n",
       "       [ 0.72051656,  0.20383883, -0.83864239, ...,  1.01089568,\n",
       "         0.53930238, -1.02198836],\n",
       "       [-0.23761367,  0.30705656,  0.43135607, ..., -0.11831391,\n",
       "        -0.12771659,  0.14709882],\n",
       "       [ 0.28839659, -0.91248749, -0.79575498, ...,  0.13777709,\n",
       "         0.74983157, -0.39459872]])"
      ]
     },
     "execution_count": 49,
     "metadata": {},
     "output_type": "execute_result"
    }
   ],
   "source": [
    "# Standardizing the columns before applying t-SNE technique\n",
    "from sklearn.preprocessing import StandardScaler\n",
    "scaler = StandardScaler(copy=True, with_std=True)\n",
    "scaler.fit(sent_vectors)\n",
    "scaler.transform(sent_vectors)"
   ]
  },
  {
   "cell_type": "code",
   "execution_count": 50,
   "metadata": {
    "scrolled": true
   },
   "outputs": [
    {
     "data": {
      "image/png": "[encoded data removed]",
      "text/plain": [
       "<matplotlib.figure.Figure at 0x1d02c8ee588>"
      ]
     },
     "metadata": {},
     "output_type": "display_data"
    },
    {
     "name": "stdout",
     "output_type": "stream",
     "text": [
      "207.2652883529663\n"
     ]
    }
   ],
   "source": [
    "import time\n",
    "start = time.time()\n",
    "\n",
    "from sklearn.manifold import TSNE\n",
    "model = TSNE(n_components=2, random_state=0,perplexity= 30.0,n_iter=4000,init='pca')\n",
    "# configuring the parameteres\n",
    "# the number of components = 2 (The no. of dimensions in which we want to visulaize)\n",
    "# perplexity = 30 (30 datapoints are considered in a neighbourhood)\n",
    "# Maximum number of iterations for the optimization = 4000\n",
    "# init='pca' initializing the t-SNE to use the first two principal components from PCA on the input data, \n",
    "# rescaled to have the same standard deviation as the gaussian distribution from the random initialization (0.0001). \n",
    "\n",
    "tsne_data = model.fit_transform(sent_vectors[0:4000])\n",
    "\n",
    "# creating a new data frame which help us in ploting the result data\n",
    "tsne_data = np.vstack((tsne_data.T, amazon_final_data['Score'][0:4000])).T\n",
    "tsne_df = pd.DataFrame(data=tsne_data, columns=(\"X-axis\", \"Y-axis\", \"Rating\"))\n",
    "\n",
    "# Ploting the result of tsne\n",
    "sns.FacetGrid(tsne_df, hue=\"Rating\", size=6).map(plt.scatter, \"X-axis\", \"Y-axis\").add_legend()\n",
    "plt.title(\"t-SNE visualization of Avg W2V vectors\")\n",
    "plt.show()\n",
    "end = time.time()\n",
    "print(end - start)"
   ]
  },
  {
   "cell_type": "markdown",
   "metadata": {},
   "source": [
    "## Observations:\n",
    "* Positive and negative reviews are overlapping."
   ]
  },
  {
   "cell_type": "markdown",
   "metadata": {},
   "source": [
    "## [5.4] Applying TNSE on Text TFIDF weighted W2V vectors"
   ]
  },
  {
   "cell_type": "code",
   "execution_count": 51,
   "metadata": {},
   "outputs": [
    {
     "data": {
      "text/plain": [
       "array([[-0.90496062,  1.21810206,  0.44516141, ..., -0.35185201,\n",
       "         0.75804758,  1.02098416],\n",
       "       [-1.15687113,  1.50685243,  0.05824223, ..., -0.19099579,\n",
       "         1.5546711 ,  1.533837  ],\n",
       "       [-1.09731838,  1.72200907,  0.38661366, ..., -0.27340188,\n",
       "         1.3840561 ,  1.54511415],\n",
       "       ..., \n",
       "       [ 0.63107372,  0.05986783, -0.72815656, ...,  0.80590979,\n",
       "         0.40644724, -0.77521661],\n",
       "       [-0.36547333,  0.40808539,  0.49204716, ..., -0.1812998 ,\n",
       "         0.01483627,  0.32597346],\n",
       "       [ 0.10184009, -0.97218409, -0.75063471, ..., -0.06013347,\n",
       "         0.66930513, -0.21491099]])"
      ]
     },
     "execution_count": 51,
     "metadata": {},
     "output_type": "execute_result"
    }
   ],
   "source": [
    "# Standardizing the columns before applying t-SNE technique\n",
    "from sklearn.preprocessing import StandardScaler\n",
    "scaler = StandardScaler(copy=True, with_std=True)\n",
    "scaler.fit(tfidf_sent_vectors)\n",
    "scaler.transform(tfidf_sent_vectors)"
   ]
  },
  {
   "cell_type": "code",
   "execution_count": 52,
   "metadata": {
    "scrolled": true
   },
   "outputs": [
    {
     "data": {
      "image/png": "[encoded data removed]",
      "text/plain": [
       "<matplotlib.figure.Figure at 0x1d02c932518>"
      ]
     },
     "metadata": {},
     "output_type": "display_data"
    },
    {
     "name": "stdout",
     "output_type": "stream",
     "text": [
      "174.89123487472534\n"
     ]
    }
   ],
   "source": [
    "import time\n",
    "start = time.time()\n",
    "\n",
    "from sklearn.manifold import TSNE\n",
    "model = TSNE(n_components=2, random_state=0,perplexity= 30.0,n_iter=4000,init='pca')\n",
    "\n",
    "# configuring the parameteres\n",
    "# the number of components = 2 (The no. of dimensions in which we want to visulaize)\n",
    "# perplexity = 30 (30 datapoints are considered in a neighbourhood)\n",
    "# Maximum number of iterations for the optimization = 4000\n",
    "# init='pca' initializing the t-SNE to use the first two principal components from PCA on the input data, \n",
    "# rescaled to have the same standard deviation as the gaussian distribution from the random initialization (0.0001). \n",
    "\n",
    "tsne_data = model.fit_transform(tfidf_sent_vectors[0:4000])\n",
    "\n",
    "# creating a new data frame which help us in ploting the result data\n",
    "tsne_data = np.vstack((tsne_data.T, amazon_final_data['Score'][0:4000])).T\n",
    "tsne_df = pd.DataFrame(data=tsne_data, columns=(\"X-axis\", \"Y-axis\", \"Rating\"))\n",
    "\n",
    "# Ploting the result of tsne\n",
    "sns.FacetGrid(tsne_df, hue=\"Rating\", size=6).map(plt.scatter,\"X-axis\", \"Y-axis\").add_legend()\n",
    "plt.title(\"t-SNE visualization of TFIDF weighted W2V vectors\")\n",
    "plt.show()\n",
    "\n",
    "end = time.time()\n",
    "print(end - start)"
   ]
  },
  {
   "cell_type": "markdown",
   "metadata": {},
   "source": [
    "## Observations:\n",
    "* Positive and negative reviews are overlapping similar to Avg W2V featurization."
   ]
  },
  {
   "cell_type": "markdown",
   "metadata": {
    "collapsed": true
   },
   "source": [
    "# [6] Conclusion:"
   ]
  },
  {
   "cell_type": "markdown",
   "metadata": {},
   "source": [
    "* Of all the featurizations, Bag of Words is the least helpful as it seems to gives the same vector representation for both positive and negative reviews and hence the overlapping.\n",
    "\n",
    "* TFIDF vector representation is somewhat better than Bag of Words and seems to give different representation that places most of the negative reviews along Y-axis in t-SNE visualization.\n",
    "\n",
    "* Both Avg Word2Vec and TFIDF weighted Word2Vec model representation looks similar and seems to give different representation for each review(as the reviews aren't concentrated around some region).But most of the negative and positiive reviews are overlapping."
   ]
  }
 ],
 "metadata": {
  "kernelspec": {
   "display_name": "Python 3",
   "language": "python",
   "name": "python3"
  },
  "language_info": {
   "codemirror_mode": {
    "name": "ipython",
    "version": 3
   },
   "file_extension": ".py",
   "mimetype": "text/x-python",
   "name": "python",
   "nbconvert_exporter": "python",
   "pygments_lexer": "ipython3",
   "version": "3.7.4"
  }
 },
 "nbformat": 4,
 "nbformat_minor": 2
}
